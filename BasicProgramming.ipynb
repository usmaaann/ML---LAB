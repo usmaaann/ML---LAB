{
  "nbformat": 4,
  "nbformat_minor": 0,
  "metadata": {
    "colab": {
      "provenance": [],
      "authorship_tag": "ABX9TyO5JIMAHBzi4mtv63s9y6m0",
      "include_colab_link": true
    },
    "kernelspec": {
      "name": "python3",
      "display_name": "Python 3"
    },
    "language_info": {
      "name": "python"
    }
  },
  "cells": [
    {
      "cell_type": "markdown",
      "metadata": {
        "id": "view-in-github",
        "colab_type": "text"
      },
      "source": [
        "<a href=\"https://colab.research.google.com/github/riteshTelkar28/Machine-Learning-lab/blob/main/BasicProgramming.ipynb\" target=\"_parent\"><img src=\"https://colab.research.google.com/assets/colab-badge.svg\" alt=\"Open In Colab\"/></a>"
      ]
    },
    {
      "cell_type": "markdown",
      "source": [
        "Table"
      ],
      "metadata": {
        "id": "yp6oENLoBOpO"
      }
    },
    {
      "cell_type": "code",
      "execution_count": null,
      "metadata": {
        "colab": {
          "base_uri": "https://localhost:8080/"
        },
        "id": "8wFnAO6V_OBz",
        "outputId": "96ffbecd-8ac3-4c7e-eef1-e5f0dccb536c"
      },
      "outputs": [
        {
          "output_type": "stream",
          "name": "stdout",
          "text": [
            "enter a number5\n",
            "5 X 1 = 5\n",
            "5 X 2 = 10\n",
            "5 X 3 = 15\n",
            "5 X 4 = 20\n",
            "5 X 5 = 25\n",
            "5 X 6 = 30\n",
            "5 X 7 = 35\n",
            "5 X 8 = 40\n",
            "5 X 9 = 45\n",
            "5 X 10 = 50\n"
          ]
        }
      ],
      "source": [
        "n = int(input(\"enter a number\"))\n",
        "for i in range(1,11):\n",
        "  print(n,\"X\",i,\"=\",n*i)"
      ]
    },
    {
      "cell_type": "markdown",
      "source": [
        "list"
      ],
      "metadata": {
        "id": "oW5HiPsVFE6Q"
      }
    },
    {
      "cell_type": "code",
      "source": [
        "l = [\"apple\",\"banana\",\"mango\"]\n",
        "newl=[]\n",
        "old=[]\n",
        "for i in l:\n",
        "  if 'a' in i:\n",
        "    newl.append(i)\n",
        "  else:\n",
        "    old.append(i)\n",
        "print(\"fruits are :\",l)\n",
        "print(\"new list :\",newl)\n",
        "print(\"old list :\",old)"
      ],
      "metadata": {
        "colab": {
          "base_uri": "https://localhost:8080/"
        },
        "id": "gFLxSW4NCVFd",
        "outputId": "ca6ce76d-7464-471f-d7eb-023d4a3bc2c7"
      },
      "execution_count": null,
      "outputs": [
        {
          "output_type": "stream",
          "name": "stdout",
          "text": [
            "fruits are : ['apple', 'banana', 'mango']\n",
            "new list : ['apple', 'banana', 'mango']\n",
            "old list : []\n"
          ]
        }
      ]
    },
    {
      "cell_type": "markdown",
      "source": [
        "Tuple"
      ],
      "metadata": {
        "id": "-6uLTEh9FBSm"
      }
    },
    {
      "cell_type": "code",
      "source": [
        "number = (1,2,3,4)\n",
        "print(number[1:])\n",
        "print(number[::-1])\n",
        "print(number[2:4])"
      ],
      "metadata": {
        "colab": {
          "base_uri": "https://localhost:8080/"
        },
        "id": "11LhsvtkEyN7",
        "outputId": "2cbc4acf-cad1-447e-b978-9fd681084ede"
      },
      "execution_count": null,
      "outputs": [
        {
          "output_type": "stream",
          "name": "stdout",
          "text": [
            "(2, 3, 4)\n",
            "(4, 3, 2, 1)\n",
            "(3, 4)\n"
          ]
        }
      ]
    },
    {
      "cell_type": "markdown",
      "source": [
        "String"
      ],
      "metadata": {
        "id": "OUat4sfeFbUG"
      }
    },
    {
      "cell_type": "code",
      "source": [],
      "metadata": {
        "id": "cA2VX5VgG0WI"
      },
      "execution_count": null,
      "outputs": []
    },
    {
      "cell_type": "code",
      "source": [
        "str = \"ritesh \"\n",
        "print(\"previous string \",str)\n",
        "\n",
        "str1=list(str)\n",
        "str1=str[2:4]\n",
        "print(str1)"
      ],
      "metadata": {
        "colab": {
          "base_uri": "https://localhost:8080/"
        },
        "id": "preSuVj5Fh_h",
        "outputId": "c6794883-9f92-466c-f250-21d1d3bd46d9"
      },
      "execution_count": null,
      "outputs": [
        {
          "output_type": "stream",
          "name": "stdout",
          "text": [
            "previous string  ritesh \n",
            "te\n"
          ]
        }
      ]
    },
    {
      "cell_type": "markdown",
      "source": [
        "Function"
      ],
      "metadata": {
        "id": "1OtDu2MVG1RM"
      }
    },
    {
      "cell_type": "code",
      "source": [
        "def fun1(name):\n",
        "  return name.lower()\n",
        "\n",
        "def printing(call):\n",
        "  greet = call(\"RITESH\")\n",
        "  print(greet)\n",
        "\n",
        "\n",
        "printing(fun1)"
      ],
      "metadata": {
        "colab": {
          "base_uri": "https://localhost:8080/"
        },
        "id": "ooF0xt8lIhps",
        "outputId": "10174c3c-3f52-46d9-b9a0-d455259f6c27"
      },
      "execution_count": null,
      "outputs": [
        {
          "output_type": "stream",
          "name": "stdout",
          "text": [
            "ritesh\n"
          ]
        }
      ]
    },
    {
      "cell_type": "markdown",
      "source": [
        "python classes and objects"
      ],
      "metadata": {
        "id": "AwssbXw3qAe9"
      }
    },
    {
      "cell_type": "code",
      "source": [
        "class Animal:\n",
        "  category = \"animal\"\n",
        "  def __init__(self,category2,name):\n",
        "    self.category2 = category2;\n",
        "    self.name = name;\n",
        "\n",
        "Bob = Animal(\"dog\",\"bob\")\n",
        "husk = Animal(\"fox\",\"husk\")\n",
        "\n",
        "print(\"bob is a \"+Bob.category)\n",
        "print(\"specific \"+Bob.category2)\n",
        "print(\"name \"+Bob.name)\n"
      ],
      "metadata": {
        "colab": {
          "base_uri": "https://localhost:8080/"
        },
        "id": "HSorqGL5qFON",
        "outputId": "3fcb105a-371d-43c4-edb0-b26ecfc788f4"
      },
      "execution_count": null,
      "outputs": [
        {
          "output_type": "stream",
          "name": "stdout",
          "text": [
            "bob is a animal\n",
            "specific dog\n",
            "name bob\n"
          ]
        }
      ]
    },
    {
      "cell_type": "markdown",
      "source": [
        "Pandas example"
      ],
      "metadata": {
        "id": "0IOX6nVZtlHl"
      }
    },
    {
      "cell_type": "code",
      "source": [
        "import pandas as pd\n",
        "dict = {'name':[\"Smith\", \"William\", \"Phill\", \"Parker\"],\n",
        "        'age': [\"28\", \"39\", \"34\", \"36\"]}\n",
        "info = pd.DataFrame(dict, index = [True, True, False, True])\n",
        "print(info)"
      ],
      "metadata": {
        "colab": {
          "base_uri": "https://localhost:8080/"
        },
        "id": "mjIBRhn3tnsz",
        "outputId": "ced9c061-ea2f-4823-9aee-e8b16ea6b76d"
      },
      "execution_count": null,
      "outputs": [
        {
          "output_type": "stream",
          "name": "stdout",
          "text": [
            "          name age\n",
            "True     Smith  28\n",
            "True   William  39\n",
            "False    Phill  34\n",
            "True    Parker  36\n"
          ]
        }
      ]
    },
    {
      "cell_type": "markdown",
      "source": [
        "Numpy examples"
      ],
      "metadata": {
        "id": "lakf01nhuLwe"
      }
    },
    {
      "cell_type": "code",
      "source": [
        "import numpy as np\n",
        "\n",
        "arr = np.array( [[ 1, 2, 3],\n",
        "\t\t\t\t[ 4, 2, 5]] )\n",
        "\n",
        "print(\"Array is of type: \", type(arr))\n",
        "\n",
        "print(\"No. of dimensions: \", arr.ndim)\n",
        "\n",
        "print(\"Shape of array: \", arr.shape)\n",
        "\n",
        "print(\"Size of array: \", arr.size)\n",
        "\n",
        "print(\"Array stores elements of type: \", arr.dtype)\n"
      ],
      "metadata": {
        "colab": {
          "base_uri": "https://localhost:8080/"
        },
        "id": "I6SG4efiuOHJ",
        "outputId": "29208cf3-042f-4a2d-fa5a-3c99a54a9fd6"
      },
      "execution_count": null,
      "outputs": [
        {
          "output_type": "stream",
          "name": "stdout",
          "text": [
            "Array is of type:  <class 'numpy.ndarray'>\n",
            "No. of dimensions:  2\n",
            "Shape of array:  (2, 3)\n",
            "Size of array:  6\n",
            "Array stores elements of type:  int64\n"
          ]
        }
      ]
    },
    {
      "cell_type": "markdown",
      "source": [
        "Matplotlib example\n"
      ],
      "metadata": {
        "id": "b2K0sb6ou3BD"
      }
    },
    {
      "cell_type": "code",
      "source": [
        "import matplotlib.pyplot as plt\n",
        "import numpy as np\n",
        "\n",
        "xpoints = np.array([1, 9])\n",
        "ypoints = np.array([3, 10])\n",
        "\n",
        "plt.plot(xpoints, ypoints)\n",
        "plt.show()"
      ],
      "metadata": {
        "colab": {
          "base_uri": "https://localhost:8080/",
          "height": 430
        },
        "id": "1P35oXbku54B",
        "outputId": "e637c90f-da45-4d35-dc12-3a8d3bca8e1f"
      },
      "execution_count": null,
      "outputs": [
        {
          "output_type": "display_data",
          "data": {
            "text/plain": [
              "<Figure size 640x480 with 1 Axes>"
            ],
            "image/png": "[encoded data removed]"
          },
          "metadata": {}
        }
      ]
    }
  ]
}