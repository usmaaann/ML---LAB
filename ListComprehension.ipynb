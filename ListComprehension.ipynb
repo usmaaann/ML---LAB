{
  "nbformat": 4,
  "nbformat_minor": 0,
  "metadata": {
    "colab": {
      "provenance": [],
      "authorship_tag": "ABX9TyOSYBQUgijJP9rfES3DW4j7",
      "include_colab_link": true
    },
    "kernelspec": {
      "name": "python3",
      "display_name": "Python 3"
    },
    "language_info": {
      "name": "python"
    }
  },
  "cells": [
    {
      "cell_type": "markdown",
      "metadata": {
        "id": "view-in-github",
        "colab_type": "text"
      },
      "source": [
        "<a href=\"https://colab.research.google.com/github/riteshTelkar28/Machine-Learning-lab/blob/main/ListComprehension.ipynb\" target=\"_parent\"><img src=\"https://colab.research.google.com/assets/colab-badge.svg\" alt=\"Open In Colab\"/></a>"
      ]
    },
    {
      "cell_type": "markdown",
      "source": [
        "List comprehension offers a shorter syntax when you want to create a new list based on the values of an existing list."
      ],
      "metadata": {
        "id": "LEdw931D0xGo"
      }
    },
    {
      "cell_type": "markdown",
      "source": [],
      "metadata": {
        "id": "SK3o7SD61inH"
      }
    },
    {
      "cell_type": "markdown",
      "source": [
        "Syntax :  - newlist = [expression **for** item **in** iterable **if** condition == True]"
      ],
      "metadata": {
        "id": "Gxyttf-a103S"
      }
    },
    {
      "cell_type": "code",
      "execution_count": null,
      "metadata": {
        "colab": {
          "base_uri": "https://localhost:8080/"
        },
        "id": "XB17YNEN0mxg",
        "outputId": "dd986658-63d9-4d18-abb8-ddd07370819b"
      },
      "outputs": [
        {
          "output_type": "stream",
          "name": "stdout",
          "text": [
            "['apple', 'banana', 'mango']\n"
          ]
        }
      ],
      "source": [
        "fruits = [\"apple\", \"banana\", \"cherry\", \"kiwi\", \"mango\"]\n",
        "\n",
        "newlist = [x for x in fruits if \"a\" in x]\n",
        "\n",
        "print(newlist)"
      ]
    },
    {
      "cell_type": "markdown",
      "source": [
        "Condition"
      ],
      "metadata": {
        "id": "6zbE22Pf1hew"
      }
    },
    {
      "cell_type": "code",
      "source": [
        "fruits = [\"apple\", \"banana\", \"cherry\", \"kiwi\", \"mango\"]\n",
        "\n",
        "newlist = [x for x in fruits if x != \"apple\"]\n",
        "\n",
        "print(newlist)"
      ],
      "metadata": {
        "colab": {
          "base_uri": "https://localhost:8080/"
        },
        "id": "ml-BE0Av2LoN",
        "outputId": "bf03b9dd-ed51-4895-8549-af0ca9c6d837"
      },
      "execution_count": null,
      "outputs": [
        {
          "output_type": "stream",
          "name": "stdout",
          "text": [
            "['banana', 'cherry', 'kiwi', 'mango']\n"
          ]
        }
      ]
    },
    {
      "cell_type": "markdown",
      "source": [
        "to find square of numbers"
      ],
      "metadata": {
        "id": "S4CrfpDFo29Q"
      }
    },
    {
      "cell_type": "code",
      "source": [
        "numbers = [1,2,3,4,5]\n",
        "square_number = [num*num for num in numbers]\n",
        "print(square_number)"
      ],
      "metadata": {
        "colab": {
          "base_uri": "https://localhost:8080/"
        },
        "id": "F0w7QXDIo1e-",
        "outputId": "84ce3cea-0d01-4ab5-915a-207d89b318f6"
      },
      "execution_count": null,
      "outputs": [
        {
          "output_type": "stream",
          "name": "stdout",
          "text": [
            "[1, 4, 9, 16, 25]\n"
          ]
        }
      ]
    },
    {
      "cell_type": "markdown",
      "source": [
        "Vowels find out"
      ],
      "metadata": {
        "id": "_kDuD7wrpbn_"
      }
    },
    {
      "cell_type": "markdown",
      "source": [],
      "metadata": {
        "id": "8nRlmPbypbj0"
      }
    },
    {
      "cell_type": "code",
      "source": [
        "word = \"Hello\"\n",
        "vowels = \"aeiou\"\n",
        "result = [char for char in word if char in vowels]\n",
        "print(result)"
      ],
      "metadata": {
        "colab": {
          "base_uri": "https://localhost:8080/"
        },
        "id": "T7G5SSl4peF4",
        "outputId": "68e96ac3-4fa7-4052-b67f-56e5637cef27"
      },
      "execution_count": null,
      "outputs": [
        {
          "output_type": "stream",
          "name": "stdout",
          "text": [
            "['e', 'o']\n"
          ]
        }
      ]
    }
  ]
}